{
 "cells": [
  {
   "cell_type": "code",
   "execution_count": 3,
   "id": "c299a6eb",
   "metadata": {},
   "outputs": [
    {
     "name": "stdout",
     "output_type": "stream",
     "text": [
      "Requirement already satisfied: requests in c:\\users\\sourabh hiremath\\appdata\\local\\programs\\python\\python310\\lib\\site-packages (2.31.0)\n",
      "Requirement already satisfied: charset-normalizer<4,>=2 in c:\\users\\sourabh hiremath\\appdata\\local\\programs\\python\\python310\\lib\\site-packages (from requests) (3.2.0)\n",
      "Requirement already satisfied: idna<4,>=2.5 in c:\\users\\sourabh hiremath\\appdata\\local\\programs\\python\\python310\\lib\\site-packages (from requests) (3.4)\n",
      "Requirement already satisfied: urllib3<3,>=1.21.1 in c:\\users\\sourabh hiremath\\appdata\\local\\programs\\python\\python310\\lib\\site-packages (from requests) (2.0.4)\n",
      "Requirement already satisfied: certifi>=2017.4.17 in c:\\users\\sourabh hiremath\\appdata\\local\\programs\\python\\python310\\lib\\site-packages (from requests) (2023.7.22)\n",
      "Requirement already satisfied: pandas in c:\\users\\sourabh hiremath\\appdata\\local\\programs\\python\\python310\\lib\\site-packages (2.0.3)\n",
      "Requirement already satisfied: python-dateutil>=2.8.2 in c:\\users\\sourabh hiremath\\appdata\\local\\programs\\python\\python310\\lib\\site-packages (from pandas) (2.8.2)\n",
      "Requirement already satisfied: pytz>=2020.1 in c:\\users\\sourabh hiremath\\appdata\\local\\programs\\python\\python310\\lib\\site-packages (from pandas) (2023.3)\n",
      "Requirement already satisfied: tzdata>=2022.1 in c:\\users\\sourabh hiremath\\appdata\\local\\programs\\python\\python310\\lib\\site-packages (from pandas) (2023.3)\n",
      "Requirement already satisfied: numpy>=1.21.0 in c:\\users\\sourabh hiremath\\appdata\\local\\programs\\python\\python310\\lib\\site-packages (from pandas) (1.25.1)\n",
      "Requirement already satisfied: six>=1.5 in c:\\users\\sourabh hiremath\\appdata\\local\\programs\\python\\python310\\lib\\site-packages (from python-dateutil>=2.8.2->pandas) (1.16.0)\n"
     ]
    }
   ],
   "source": [
    "!pip install requests\n",
    "!pip install pandas"
   ]
  },
  {
   "cell_type": "code",
   "execution_count": 4,
   "id": "9224b022",
   "metadata": {},
   "outputs": [
    {
     "name": "stdout",
     "output_type": "stream",
     "text": [
      "\n",
      "Options:\n",
      "1. Get Temperature\n",
      "2. Get Wind Speed\n",
      "3. Get Pressure\n",
      "0. Exit\n",
      "Enter your choice: 1\n",
      "Enter the date with time (YYYY-MM-DD HH:MM:SS): 2019-03-27 18:00:00\n",
      "Temperature at 2019-03-27 18:00:00: 278.76°C\n",
      "\n",
      "Options:\n",
      "1. Get Temperature\n",
      "2. Get Wind Speed\n",
      "3. Get Pressure\n",
      "0. Exit\n",
      "Enter your choice: 2\n",
      "Enter the date with time (YYYY-MM-DD HH:MM:SS): 2019-03-27 18:00:00\n",
      "Wind Speed at 2019-03-27 18:00:00: 1.6 m/s\n",
      "\n",
      "Options:\n",
      "1. Get Temperature\n",
      "2. Get Wind Speed\n",
      "3. Get Pressure\n",
      "0. Exit\n",
      "Enter your choice: oivn\n",
      "Invalid choice. Please enter a valid option.\n",
      "\n",
      "Options:\n",
      "1. Get Temperature\n",
      "2. Get Wind Speed\n",
      "3. Get Pressure\n",
      "0. Exit\n",
      "Enter your choice: 0\n",
      "Exiting the program.\n"
     ]
    }
   ],
   "source": [
    "import requests\n",
    "import pandas as pd\n",
    "\n",
    "API_URL = \"https://samples.openweathermap.org/data/2.5/forecast/hourly?q=London,us&appid=b6907d289e10d714a6e88b30761fae22\"\n",
    "\n",
    "response = requests.get(API_URL)\n",
    "if response.status_code != 200:\n",
    "    print(\"Failed to retrieve weather data.\")\n",
    "else:\n",
    "    weather_data = response.json()\n",
    "    weather_list = weather_data.get('list', [])\n",
    "\n",
    "    if not weather_list:\n",
    "        print(\"No weather data available.\")\n",
    "    else:\n",
    "        weather_df = pd.DataFrame(weather_list)\n",
    "\n",
    "        while True:\n",
    "            print(\"\\nOptions:\")\n",
    "            print(\"1. Get Temperature\")\n",
    "            print(\"2. Get Wind Speed\")\n",
    "            print(\"3. Get Pressure\")\n",
    "            print(\"0. Exit\")\n",
    "\n",
    "            choice = input(\"Enter your choice: \")\n",
    "\n",
    "            if choice == '0':\n",
    "                print(\"Exiting the program.\")\n",
    "                break\n",
    "            elif choice in ['1', '2', '3']:\n",
    "                target_date = input(\"Enter the date with time (YYYY-MM-DD HH:MM:SS): \")\n",
    "                selected_entry = weather_df[weather_df['dt_txt'] == target_date]\n",
    "\n",
    "                if selected_entry.empty:\n",
    "                    print(\"Data not found for the provided date.\")\n",
    "                else:\n",
    "                    if choice == '1':\n",
    "                        print(f\"Temperature at {target_date}: {selected_entry.iloc[0]['main']['temp']}°C\")\n",
    "                    elif choice == '2':\n",
    "                        print(f\"Wind Speed at {target_date}: {selected_entry.iloc[0]['wind']['speed']} m/s\")\n",
    "                    elif choice == '3':\n",
    "                        print(f\"Pressure at {target_date}: {selected_entry.iloc[0]['main']['pressure']} hPa\")\n",
    "            else:\n",
    "                print(\"Invalid choice. Please enter a valid option.\")\n",
    "            "
   ]
  }
 ],
 "metadata": {
  "kernelspec": {
   "display_name": "Python 3 (ipykernel)",
   "language": "python",
   "name": "python3"
  },
  "language_info": {
   "codemirror_mode": {
    "name": "ipython",
    "version": 3
   },
   "file_extension": ".py",
   "mimetype": "text/x-python",
   "name": "python",
   "nbconvert_exporter": "python",
   "pygments_lexer": "ipython3",
   "version": "3.10.0"
  }
 },
 "nbformat": 4,
 "nbformat_minor": 5
}
